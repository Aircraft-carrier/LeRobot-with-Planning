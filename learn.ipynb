{
 "cells": [
  {
   "cell_type": "code",
   "execution_count": 7,
   "metadata": {},
   "outputs": [
    {
     "name": "stderr",
     "output_type": "stream",
     "text": [
      "\u001b[32m2025-03-27 13:01:33.365\u001b[0m | \u001b[1mINFO    \u001b[0m | \u001b[36mapp.llm\u001b[0m:\u001b[36mupdate_token_count\u001b[0m:\u001b[36m205\u001b[0m - \u001b[1mToken usage: Input=720, Cumulative Input=1440\u001b[0m\n"
     ]
    },
    {
     "name": "stdout",
     "output_type": "stream",
     "text": [
      "ChatCompletionMessage(content='', refusal=None, role='assistant', audio=None, function_call=None, tool_calls=[ChatCompletionMessageToolCall(id='call_16eacfee286c4f97b9df51', function=Function(arguments='{\"plan_id\": \"1\", \"title\": \"Put strawberries in the fridge\", \"steps\": [23, 21, 22, 24]}', name='action_planning'), type='function', index=0)])\n"
     ]
    }
   ],
   "source": [
    "from app.tool.action_planning import ActionPlanningTool\n",
    "from app.llm import LLM\n",
    "from app.schema import Message\n",
    "import asyncio  \n",
    "import nest_asyncio\n",
    "nest_asyncio.apply()\n",
    "\n",
    "user_msg = Message.user_message(\"Help me put the strawberries in the fridge\")\n",
    "system_msg = Message.system_message(\"You are an agent who can control a robotic arm and perform a series of actions using the arm\")\n",
    "\n",
    "llm = LLM()\n",
    "planning_tool = ActionPlanningTool()\n",
    "\n",
    "async def make_request():\n",
    "    response = await llm.ask_tool(\n",
    "        messages=[user_msg],\n",
    "        system_msgs=[system_msg],\n",
    "        tools=[planning_tool.to_param()],\n",
    "        tool_choice=\"auto\"\n",
    "    )\n",
    "    return response\n",
    "\n",
    "response = asyncio.run(make_request())\n",
    "print(response)"
   ]
  },
  {
   "cell_type": "code",
   "execution_count": 8,
   "metadata": {},
   "outputs": [
    {
     "name": "stdout",
     "output_type": "stream",
     "text": [
      "args: {'plan_id': '1', 'title': 'Put strawberries in the fridge', 'steps': [23, 21, 22, 24]}\n",
      "Action plan created successfully with ID: 1\n",
      "\n",
      "Plan: Put strawberries in the fridge (ID: 1)\n",
      "=============================================\n",
      "\n",
      "Progress: 0/4 steps completed (0.0%)\n",
      "Status: 0 completed, 0 in progress, 0 blocked, 4 not started\n",
      "\n",
      "Steps:\n",
      "0. [ ] Open the refrigerator door\n",
      "1. [ ] Grab strawberries from the table\n",
      "2. [ ] Put the strawberries in the refrigerator\n",
      "3. [ ] Turn off the refrigerator\n",
      "\n"
     ]
    }
   ],
   "source": [
    "import json\n",
    "active_plan_id = \"task001\"\n",
    "\n",
    "if response.tool_calls:\n",
    "    for tool_call in response.tool_calls:\n",
    "        # Parse the arguments\n",
    "        args = tool_call.function.arguments\n",
    "        if isinstance(args, str):\n",
    "            try:\n",
    "                args = json.loads(args)\n",
    "            except json.JSONDecodeError:\n",
    "                print(f\"Failed to parse tool arguments: {args}\")\n",
    "                continue\n",
    "\n",
    "\n",
    "        # Ensure plan_id is set correctly and execute the tool\n",
    "        print(\"args:\",args)\n",
    "        # Execute the tool via ToolCollection instead of directly\n",
    "        if tool_call.function.name == \"action_planning\":\n",
    "            result = await planning_tool.execute(**args)\n",
    "            print(result.output)"
   ]
  },
  {
   "cell_type": "code",
   "execution_count": 9,
   "metadata": {},
   "outputs": [
    {
     "name": "stdout",
     "output_type": "stream",
     "text": [
      "Available plans:\n",
      "• 1 (active): Put strawberries in the fridge - 0/4 steps completed\n",
      "\n"
     ]
    }
   ],
   "source": [
    "result = await planning_tool.execute(command=\"list\")\n",
    "print(result.output)\n"
   ]
  },
  {
   "cell_type": "code",
   "execution_count": 10,
   "metadata": {},
   "outputs": [
    {
     "name": "stdout",
     "output_type": "stream",
     "text": [
      "Action plan created successfully with ID: plan_001\n",
      "\n",
      "Plan: My First Plan (ID: plan_001)\n",
      "===================================\n",
      "\n",
      "Progress: 0/4 steps completed (0.0%)\n",
      "Status: 0 completed, 0 in progress, 0 blocked, 4 not started\n",
      "\n",
      "Steps:\n",
      "0. [ ] Open the refrigerator door\n",
      "1. [ ] Grab strawberries from the table\n",
      "2. [ ] Put the strawberries in the refrigerator\n",
      "3. [ ] Turn off the refrigerator\n",
      "\n"
     ]
    }
   ],
   "source": [
    "result = await planning_tool.execute(\n",
    "    command=\"create\",\n",
    "    plan_id=\"plan_001\",\n",
    "    title=\"My First Plan\",\n",
    "    steps=[23, 21, 22, 24]\n",
    ")\n",
    "print(result.output)\n"
   ]
  },
  {
   "cell_type": "code",
   "execution_count": 11,
   "metadata": {},
   "outputs": [
    {
     "name": "stdout",
     "output_type": "stream",
     "text": [
      "Available plans:\n",
      "• 1: Put strawberries in the fridge - 0/4 steps completed\n",
      "• plan_001 (active): My First Plan - 0/4 steps completed\n",
      "\n"
     ]
    }
   ],
   "source": [
    "result = await planning_tool.execute(command=\"list\")\n",
    "print(result.output)"
   ]
  },
  {
   "cell_type": "code",
   "execution_count": 12,
   "metadata": {},
   "outputs": [
    {
     "name": "stderr",
     "output_type": "stream",
     "text": [
      "\u001b[32m2025-03-27 13:01:35.397\u001b[0m | \u001b[1mINFO    \u001b[0m | \u001b[36mapp.llm\u001b[0m:\u001b[36mupdate_token_count\u001b[0m:\u001b[36m205\u001b[0m - \u001b[1mToken usage: Input=266, Cumulative Input=1706\u001b[0m\n"
     ]
    },
    {
     "name": "stdout",
     "output_type": "stream",
     "text": [
      "ChatCompletionMessage(content='', refusal=None, role='assistant', audio=None, function_call=None, tool_calls=[ChatCompletionMessageToolCall(id='call_4a50ce6ad30342bfbf2b30', function=Function(arguments='{\"status\": \"plan_generated_successfully\"}', name='validate_plan'), type='function', index=0)])\n"
     ]
    }
   ],
   "source": [
    "from app.tool.plan_validator import PlanValidator\n",
    "from app.schema import Message\n",
    "import asyncio  \n",
    "import nest_asyncio\n",
    "nest_asyncio.apply()\n",
    "task = \"Help me put the strawberries in the fridge\"\n",
    "user_msg = f\"\"\"\n",
    "## Task\n",
    "{task}\n",
    "## Action plan sequence\n",
    "{planning_tool.plan_to_prompt(\"plan_001\")}\n",
    "\"\"\"\n",
    "user_msg = Message.user_message(user_msg)\n",
    "system_msg = Message.system_message(\"You are an agent skilled in making independent judgments based on input requirements.\")\n",
    "\n",
    "plan_validator = PlanValidator()\n",
    "async def make_request():\n",
    "    response = await llm.ask_tool(\n",
    "        messages=[user_msg],\n",
    "        system_msgs=[system_msg],\n",
    "        tools=[plan_validator.to_param()],\n",
    "        tool_choice=\"auto\"\n",
    "    )\n",
    "    return response\n",
    "\n",
    "response = asyncio.run(make_request())\n",
    "print(response)"
   ]
  },
  {
   "cell_type": "code",
   "execution_count": 13,
   "metadata": {},
   "outputs": [
    {
     "name": "stdout",
     "output_type": "stream",
     "text": [
      "status : plan_generated_successfully\n"
     ]
    }
   ],
   "source": [
    "if response.tool_calls:\n",
    "    for tool_call in response.tool_calls:\n",
    "        # Parse the arguments\n",
    "        args = tool_call.function.arguments\n",
    "        if isinstance(args, str):\n",
    "            try:\n",
    "                args = json.loads(args)\n",
    "            except json.JSONDecodeError:\n",
    "                print(f\"Failed to parse tool arguments: {args}\")\n",
    "                continue\n",
    "        print(\"status :\",args.get(\"status\"))"
   ]
  },
  {
   "cell_type": "code",
   "execution_count": 15,
   "metadata": {},
   "outputs": [
    {
     "name": "stderr",
     "output_type": "stream",
     "text": [
      "\u001b[32m2025-03-27 13:02:55.396\u001b[0m | \u001b[1mINFO    \u001b[0m | \u001b[36mapp.llm\u001b[0m:\u001b[36mupdate_token_count\u001b[0m:\u001b[36m205\u001b[0m - \u001b[1mToken usage: Input=264, Cumulative Input=2234\u001b[0m\n"
     ]
    },
    {
     "name": "stdout",
     "output_type": "stream",
     "text": [
      "sucess\n"
     ]
    }
   ],
   "source": [
    "import asyncio  \n",
    "import nest_asyncio\n",
    "nest_asyncio.apply()\n",
    "\n",
    "\n",
    "async def run_validator():\n",
    "    result = await plan_validator.execute(task=task,\n",
    "                                          plans=planning_tool.plan_to_prompt(\"plan_001\"))\n",
    "    return result\n",
    "\n",
    "plan_pass = asyncio.run(run_validator())\n",
    "if plan_pass:\n",
    "    print(\"sucess\")"
   ]
  },
  {
   "cell_type": "code",
   "execution_count": null,
   "metadata": {},
   "outputs": [],
   "source": []
  }
 ],
 "metadata": {
  "kernelspec": {
   "display_name": "open_manus",
   "language": "python",
   "name": "python3"
  },
  "language_info": {
   "codemirror_mode": {
    "name": "ipython",
    "version": 3
   },
   "file_extension": ".py",
   "mimetype": "text/x-python",
   "name": "python",
   "nbconvert_exporter": "python",
   "pygments_lexer": "ipython3",
   "version": "3.12.9"
  }
 },
 "nbformat": 4,
 "nbformat_minor": 2
}
